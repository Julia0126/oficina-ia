{
  "nbformat": 4,
  "nbformat_minor": 0,
  "metadata": {
    "colab": {
      "provenance": [],
      "gpuType": "T4"
    },
    "kernelspec": {
      "name": "python3",
      "display_name": "Python 3"
    },
    "language_info": {
      "name": "python"
    }
  },
  "cells": [
    {
      "cell_type": "markdown",
      "source": [
        "#Bem Vindas - E esse tal de pyhton?(Fazer o projeto em conjunto)\n",
        "\n",
        "Hoje vamos praticar alguns conceitos de python, iremos pegar revisão bem rápida de python básico e depois vamos parti para uma parte mais intermediário, certo?\n",
        "\n",
        "\n",
        "**Aula com a professora:** Nicole Pessoa<br>\n",
        "**Monitora:** Amanda Silva"
      ],
      "metadata": {
        "id": "uAsOMDVdui10"
      }
    },
    {
      "cell_type": "markdown",
      "source": [
        "## 1. Variáveis e Operadores\n",
        "\n",
        "O que são variáveis?\n",
        "\n",
        "São **\"caixinhas\"** que armazenam dados na memória. Em Python, não precisamos declarar o tipo (ela é dinâmica)."
      ],
      "metadata": {
        "id": "Wv109IBZvt8Q"
      }
    },
    {
      "cell_type": "code",
      "execution_count": 2,
      "metadata": {
        "id": "qhHYVlwqugWn"
      },
      "outputs": [],
      "source": [
        "name = \"Julia\" #String\n",
        "idade = 26 # Int\n",
        "altura = 1.67 #Float\n",
        "estudante = False #Boolean"
      ]
    },
    {
      "cell_type": "markdown",
      "source": [
        "## Operadores Básicos\n",
        "\n",
        "    Aritméticos: +, -, *, /, // (divisão inteira), % (resto), ** (potência).\n",
        "\n",
        "    Comparação: ==, !=, >, <, >=, <=.\n",
        "\n",
        "    Lógicos: and, or, not."
      ],
      "metadata": {
        "id": "uZG-LeEXwMRs"
      }
    },
    {
      "cell_type": "code",
      "source": [
        "nota1 = 6.7\n",
        "nota2 = 8.7\n",
        "print(nota1 // nota2) # operador de divisão inteira. Ele retorna o maior número inteiro que é menor ou igual ao resultado da divisão (ou seja, \"corta\" as casas decimais).\n",
        "print(nota1 > nota2)\n",
        "print(nota2 != nota1)"
      ],
      "metadata": {
        "id": "PSlq8cA2wIzy",
        "colab": {
          "base_uri": "https://localhost:8080/"
        },
        "outputId": "8f2db13b-111b-4ad6-9527-6412655399ba"
      },
      "execution_count": 4,
      "outputs": [
        {
          "output_type": "stream",
          "name": "stdout",
          "text": [
            "0.0\n",
            "False\n",
            "True\n"
          ]
        }
      ]
    },
    {
      "cell_type": "code",
      "source": [
        "#Vamos usar comparação para ver como pode ser usado como exemplo\n",
        "if nota1 >= 8:\n",
        "  print(\"Aprovado\")\n",
        "else:\n",
        "  print(\"Reprovado\")"
      ],
      "metadata": {
        "id": "lI6riVNf6c14",
        "colab": {
          "base_uri": "https://localhost:8080/"
        },
        "outputId": "f4b1cbfe-c8d2-4714-80d7-913731ec9643"
      },
      "execution_count": 5,
      "outputs": [
        {
          "output_type": "stream",
          "name": "stdout",
          "text": [
            "Reprovado\n"
          ]
        }
      ]
    },
    {
      "cell_type": "markdown",
      "source": [
        "## 2. Estruturas de Dados\n",
        "\n",
        "Listas (list)\n",
        "\n",
        "    Ordenadas, mutáveis e permitem itens duplicados."
      ],
      "metadata": {
        "id": "or5Due4Ywev_"
      }
    },
    {
      "cell_type": "code",
      "source": [
        "frutas = [banana, abacaxi, uva]"
      ],
      "metadata": {
        "id": "vDRburwF8eYW"
      },
      "execution_count": null,
      "outputs": []
    },
    {
      "cell_type": "code",
      "source": [
        "frutas = [\"banana\",\"pessego\",\"pera\",\"melancia\"]"
      ],
      "metadata": {
        "id": "WBG0GT2f8fh-"
      },
      "execution_count": 6,
      "outputs": []
    },
    {
      "cell_type": "code",
      "source": [
        "frutas.append(\"abacaxi\")  # Adiciona no final\n",
        "frutas[2] = \"morango\"     # Altera um item\n",
        "print(frutas[0])          # Acessa o primeiro item"
      ],
      "metadata": {
        "id": "z62LZhT-8405",
        "colab": {
          "base_uri": "https://localhost:8080/"
        },
        "outputId": "88fbb3bf-a056-43e3-8649-b744c29756a6"
      },
      "execution_count": 9,
      "outputs": [
        {
          "output_type": "stream",
          "name": "stdout",
          "text": [
            "banana\n"
          ]
        }
      ]
    },
    {
      "cell_type": "code",
      "source": [
        "print(frutas)"
      ],
      "metadata": {
        "colab": {
          "base_uri": "https://localhost:8080/"
        },
        "id": "5YaWkdJfMHAD",
        "outputId": "cf9ef9d0-d8bd-44d6-f9e5-5a3e99be5fc5"
      },
      "execution_count": 10,
      "outputs": [
        {
          "output_type": "stream",
          "name": "stdout",
          "text": [
            "['banana', 'pessego', 'morango', 'melancia', 'abacaxi', 'abacaxi']\n"
          ]
        }
      ]
    },
    {
      "cell_type": "markdown",
      "source": [
        "Tuplas (tuple)\n",
        "\n",
        "    Ordenadas, imutáveis e permitem itens duplicados."
      ],
      "metadata": {
        "id": "93l4-wMrwx64"
      }
    },
    {
      "cell_type": "code",
      "source": [
        "#Exemplo 1: Tupla SimplesExemplo 1: Tupla Simples\n",
        "coordenadas = (10,20)\n"
      ],
      "metadata": {
        "id": "IkhpXiBtwxeM"
      },
      "execution_count": null,
      "outputs": []
    },
    {
      "cell_type": "code",
      "source": [
        "#Exemplo 2: Tupla com Um Elemento\n",
        "tupla_unica = (42,)\n",
        "nao_e_tupla = (42)"
      ],
      "metadata": {
        "id": "lOCp97fAxrUh"
      },
      "execution_count": null,
      "outputs": []
    },
    {
      "cell_type": "markdown",
      "source": [
        "Dicionários (dict)\n",
        "\n",
        "    Pares chave-valor, não ordenados, mutáveis."
      ],
      "metadata": {
        "id": "uuWwPjQZyJ4Q"
      }
    },
    {
      "cell_type": "code",
      "source": [
        "pessoa = {\"nome\": \"Alice\", \"idade\": 30, \"cidade\": \"São Paulo\"}\n",
        "print(pessoa[\"nome\"])"
      ],
      "metadata": {
        "id": "KfkdLScsyEJu",
        "colab": {
          "base_uri": "https://localhost:8080/"
        },
        "outputId": "8511184c-4d40-444c-a20d-6a43609270d6"
      },
      "execution_count": 12,
      "outputs": [
        {
          "output_type": "stream",
          "name": "stdout",
          "text": [
            "Alice\n"
          ]
        }
      ]
    },
    {
      "cell_type": "markdown",
      "source": [
        "## 3. Loops e Condicionais\n",
        "\n",
        "```\n",
        "# Condicionais (if, elif, else)\n",
        "```\n",
        "\n",
        "\n",
        "Executa blocos de código conforme condições."
      ],
      "metadata": {
        "id": "e0fM62j4yZCL"
      }
    },
    {
      "cell_type": "code",
      "source": [
        "idade = 10\n",
        "if idade >= 18:\n",
        "    print(\"Maior de idade\")\n",
        "else:\n",
        "    print(\"Menor de idade\")"
      ],
      "metadata": {
        "id": "1bvgGxNSyj4d",
        "colab": {
          "base_uri": "https://localhost:8080/"
        },
        "outputId": "626d454e-92f3-4c1a-c6af-1ab09e46e192"
      },
      "execution_count": 14,
      "outputs": [
        {
          "output_type": "stream",
          "name": "stdout",
          "text": [
            "Menor de idade\n"
          ]
        }
      ]
    },
    {
      "cell_type": "markdown",
      "source": [
        "\n",
        "Loops (for e while)\n"
      ],
      "metadata": {
        "id": "6bYRbdpEywlz"
      }
    },
    {
      "cell_type": "code",
      "source": [
        "#for (itera sobre sequências)\n",
        "numeros = [1,2,3]\n",
        "for num in numeros:\n",
        "    print(num * 2)"
      ],
      "metadata": {
        "id": "KH7Dnu8fzUng",
        "colab": {
          "base_uri": "https://localhost:8080/"
        },
        "outputId": "2b21d874-e2ad-4219-9d0b-14d4600fb4fc"
      },
      "execution_count": 15,
      "outputs": [
        {
          "output_type": "stream",
          "name": "stdout",
          "text": [
            "2\n",
            "4\n",
            "6\n"
          ]
        }
      ]
    },
    {
      "cell_type": "code",
      "source": [
        "#while (executa enquanto condição for verdadeira)\n",
        "contador = 0\n",
        "while  contador < 3 :\n",
        "    print(contador)\n",
        "    contador +=1"
      ],
      "metadata": {
        "id": "qypT8h4_ztkl",
        "colab": {
          "base_uri": "https://localhost:8080/"
        },
        "outputId": "198e5052-ec0e-4284-cb48-ee3d9048f6e4"
      },
      "execution_count": 16,
      "outputs": [
        {
          "output_type": "stream",
          "name": "stdout",
          "text": [
            "0\n",
            "1\n",
            "2\n"
          ]
        }
      ]
    },
    {
      "cell_type": "markdown",
      "source": [
        "## 4. Funções (def)\n",
        "\n",
        "Blocos de código reutilizáveis que recebem parâmetros e retornam valores."
      ],
      "metadata": {
        "id": "GIPhCyOrz7O9"
      }
    },
    {
      "cell_type": "code",
      "source": [
        "#Função Básica\n",
        "def saudacao(nome):\n",
        "    return f\"Olá, {nome} ♥\"\n",
        "\n",
        "print(saudacao(\"Júlia\"))"
      ],
      "metadata": {
        "id": "FuM9yQXXz9JI",
        "colab": {
          "base_uri": "https://localhost:8080/"
        },
        "outputId": "539ec209-f248-4273-e264-dd9d322a3bb1"
      },
      "execution_count": 21,
      "outputs": [
        {
          "output_type": "stream",
          "name": "stdout",
          "text": [
            "Olá, Júlia ♥\n"
          ]
        }
      ]
    },
    {
      "cell_type": "code",
      "source": [
        "#Parâmetros Padrão\n",
        "def despedida(nome):\n",
        "    return f\"Tchau, {nome}\"\n",
        "\n",
        "print(despedida(\"Julia\"))\n",
        "print(())"
      ],
      "metadata": {
        "id": "MFnfYOzr0NOE",
        "colab": {
          "base_uri": "https://localhost:8080/"
        },
        "outputId": "c7888f16-e4a8-4fb1-9ef3-ca555dabee5e"
      },
      "execution_count": 23,
      "outputs": [
        {
          "output_type": "stream",
          "name": "stdout",
          "text": [
            "Tchau, Julia\n",
            "()\n"
          ]
        }
      ]
    },
    {
      "cell_type": "markdown",
      "source": [
        "# Agora vamos aprofundar mais?"
      ],
      "metadata": {
        "id": "PH6CK1sc0j3x"
      }
    },
    {
      "cell_type": "markdown",
      "source": [
        "## 1. Estruturas de Dados Avançadas\n",
        "\n",
        "List Comprehension vs. Loops Tradicionais: Explicação para Iniciantes\n",
        "\n",
        "Imagina que você tem uma caixa de brinquedos (uma lista) e quer fazer uma operação com cada brinquedo. Você pode fazer isso de 2 formas:\n",
        "\n",
        "    Método Tradicional (Loop For)\n",
        "    → Pegar um brinquedo de cada vez, fazer a operação e colocar na nova caixa.\n",
        "    → Passo a passo, manualmente.\n",
        "\n",
        "    List Comprehension\n",
        "    → Uma \"mágica\" que transforma toda a caixa de uma vez.\n",
        "    → Mais rápido e elegante."
      ],
      "metadata": {
        "id": "U27hdgpM16eB"
      }
    },
    {
      "cell_type": "markdown",
      "source": [
        "**Exemplo 1: Dobrar Números**\n",
        "\n",
        "Situação: Você tem os números [1, 2, 3] e quer [2, 4, 6]."
      ],
      "metadata": {
        "id": "Zuyork3zO64M"
      }
    },
    {
      "cell_type": "code",
      "source": [
        "numeros = [1, 2, 3]\n",
        "dobrados = []\n",
        "\n",
        "for num in numeros:\n",
        "    dobrados.append(num * 2)\n",
        "\n",
        "print(dobrados)"
      ],
      "metadata": {
        "id": "tb8umCz70NM1",
        "colab": {
          "base_uri": "https://localhost:8080/"
        },
        "outputId": "3489c4cb-9737-410e-e824-a85b202a4bbe"
      },
      "execution_count": 24,
      "outputs": [
        {
          "output_type": "stream",
          "name": "stdout",
          "text": [
            "[2, 4, 6]\n"
          ]
        }
      ]
    },
    {
      "cell_type": "code",
      "source": [
        "#Versão com List Comprehension (Mágica)\n",
        "numeros = [1, 2, 3]\n",
        "dobrados = [num * 2 for num in numeros]\n",
        "print(dobrados)"
      ],
      "metadata": {
        "id": "9NCceCBE2FvS",
        "colab": {
          "base_uri": "https://localhost:8080/"
        },
        "outputId": "ab16a646-11fc-4057-a1a9-14f567eadf85"
      },
      "execution_count": 25,
      "outputs": [
        {
          "output_type": "stream",
          "name": "stdout",
          "text": [
            "[2, 4, 6]\n"
          ]
        }
      ]
    },
    {
      "cell_type": "markdown",
      "source": [
        "**Comparação:**\n",
        "\n",
        "    Loop: 3 linhas (criar lista vazia + loop + append)\n",
        "\n",
        "    List Comprehension: 1 linha só!"
      ],
      "metadata": {
        "id": "FcxPrme3POrH"
      }
    },
    {
      "cell_type": "markdown",
      "source": [
        "**Exemplo 2: Filtrar Frutas**\n",
        "\n",
        "Situação: Você tem [\"maçã\", \"banana\", \"morango\"] e quer só as com \"m\"."
      ],
      "metadata": {
        "id": "E2zQvj8oPTLb"
      }
    },
    {
      "cell_type": "code",
      "source": [
        "#Loop Tradicional\n",
        "frutas = [\"maçã\", \"banana\", \"morango\"]\n",
        "filtradas = []\n",
        "for fruta in frutas:\n",
        "    if fruta.startswith(\"m\"):\n",
        "        filtradas.append(fruta)\n",
        "print(filtradas)"
      ],
      "metadata": {
        "id": "lO_p5HLSPb6v",
        "colab": {
          "base_uri": "https://localhost:8080/"
        },
        "outputId": "a9994dfa-4527-4f24-eca2-d033dff41af4"
      },
      "execution_count": 27,
      "outputs": [
        {
          "output_type": "stream",
          "name": "stdout",
          "text": [
            "['maçã', 'morango']\n"
          ]
        }
      ]
    },
    {
      "cell_type": "code",
      "source": [
        "#List Comprehension\n",
        "frutas = [\"maçã\", \"banana\", \"morango\"]\n",
        "filtradas = [fruta for fruta in frutas if fruta.startswith(\"m\")]\n",
        "print(filtradas)"
      ],
      "metadata": {
        "id": "LPCVykLzPlG4",
        "colab": {
          "base_uri": "https://localhost:8080/"
        },
        "outputId": "cb1a1f87-1b1d-4be6-b211-ab42e04effb1"
      },
      "execution_count": 28,
      "outputs": [
        {
          "output_type": "stream",
          "name": "stdout",
          "text": [
            "['maçã', 'morango']\n"
          ]
        }
      ]
    },
    {
      "cell_type": "markdown",
      "source": [
        "**Loop Tradicional:** Quando a lógica é complexa (muitos passos), Quando precisa de break ou continue e Melhor para iniciantes entenderem.\n",
        "\n",
        "**List Comprehension:** Para operações simples e transformações rápidas, Quando quer código mais limpo e Pythonico e Mais eficiente em performance para listas grandes."
      ],
      "metadata": {
        "id": "hB0BWa5XPykw"
      }
    },
    {
      "cell_type": "markdown",
      "source": [
        "b) Sets (Conjuntos)\n",
        "\n",
        "Úteis para operações matemáticas e remoção de duplicados."
      ],
      "metadata": {
        "id": "gZxMGZ-W2N7a"
      }
    },
    {
      "cell_type": "code",
      "source": [
        "#Exemplo 3: União e Interseção\n",
        "A = {1, 2, 3}\n",
        "B = {3, 4, 5}\n",
        "\n",
        "# União\n",
        "uniao = A.union(B)  # {1, 2, 3, 4, 5}\n",
        "\n",
        "print(A.union(B))"
      ],
      "metadata": {
        "id": "7uDM1aDx2Sm_",
        "colab": {
          "base_uri": "https://localhost:8080/"
        },
        "outputId": "51a59f52-7670-4cba-8f8d-0a284d1a3d0f"
      },
      "execution_count": 31,
      "outputs": [
        {
          "output_type": "stream",
          "name": "stdout",
          "text": [
            "{1, 2, 3, 4, 5}\n"
          ]
        }
      ]
    },
    {
      "cell_type": "code",
      "source": [
        "#Exemplo 4: Remover Duplicados de uma Lista\n",
        "lista = [1,2,3,4,4,4]\n",
        "unicos = list(set(lista))\n",
        "print(unicos)"
      ],
      "metadata": {
        "id": "3z1AxXIe2aYB",
        "colab": {
          "base_uri": "https://localhost:8080/"
        },
        "outputId": "2db8ced9-97ec-4087-8a57-ec43a46c0afa"
      },
      "execution_count": 32,
      "outputs": [
        {
          "output_type": "stream",
          "name": "stdout",
          "text": [
            "[1, 2, 3, 4]\n"
          ]
        }
      ]
    },
    {
      "cell_type": "markdown",
      "source": [
        "c) Dicionários Avançados (defaultdict, Counter)"
      ],
      "metadata": {
        "id": "VRPzfvZ53fWY"
      }
    },
    {
      "cell_type": "code",
      "source": [
        "from collections import Counter\n",
        "numeros = [1,2,3,4,4,4]\n",
        "contagem = Counter(numeros)\n",
        "print(contagem)\n"
      ],
      "metadata": {
        "id": "GQVguBhh3GoA",
        "colab": {
          "base_uri": "https://localhost:8080/"
        },
        "outputId": "fa0e59a2-8f81-4efb-94da-fde590070407"
      },
      "execution_count": 33,
      "outputs": [
        {
          "output_type": "stream",
          "name": "stdout",
          "text": [
            "Counter({4: 3, 1: 1, 2: 1, 3: 1})\n"
          ]
        }
      ]
    },
    {
      "cell_type": "code",
      "source": [
        "#Exemplo 6: defaultdict (Valor Padrão Automático)\n",
        "from collections import defaultdict\n",
        "pessoa = defaultdict(lambda: \"Desconhecida\")\n",
        "pessoa[\"nome\"] = \"Alice\"\n",
        "print(pessoa[\"nome\"])\n"
      ],
      "metadata": {
        "id": "PdetD8aV3w5l",
        "colab": {
          "base_uri": "https://localhost:8080/"
        },
        "outputId": "f1ac3a29-3031-4de2-8fb4-556894ad76c4"
      },
      "execution_count": 34,
      "outputs": [
        {
          "output_type": "stream",
          "name": "stdout",
          "text": [
            "Alice\n"
          ]
        }
      ]
    },
    {
      "cell_type": "markdown",
      "source": [
        "**Exercício:**\n",
        "\n",
        "Transforme este loop em List Comprehension:\n",
        "\n",
        "\n",
        "\n",
        "```\n",
        "# Loop original\n",
        "quadrados = []\n",
        "for num in range(1, 6):\n",
        "    quadrados.append(num ** 2)\n",
        "\n",
        "# Sua resposta aqui:\n",
        "quadrados = [_____ for _____ in _____]\n",
        "\n",
        "```\n",
        "\n"
      ],
      "metadata": {
        "id": "3-7eyHhV4Stc"
      }
    },
    {
      "cell_type": "markdown",
      "source": [
        "## 2. Manipulação de Arquivos\n",
        "\n",
        "a) Lendo e Escrevendo Arquivos\n",
        "\n",
        "[Para entender mais sobre](https://www.freecodecamp.org/portuguese/news/como-escrever-em-um-arquivo-em-python-open-read-append-e-outras-funcoes-de-manipulacao-explicadas/)"
      ],
      "metadata": {
        "id": "gmjzhmqb4j8o"
      }
    },
    {
      "cell_type": "code",
      "source": [
        "#Exemplo 7: Arquivo TXT\n",
        "# Escrevendo\n",
        "with open(\"dados.txt\", \"w\") as arquivo:\n",
        "    arquivo.write(\"python/ne/incrivel\")\n",
        "# Lendo\n",
        "with open(\"dados.txt\", \"r\") as arquivo:\n",
        "    conteudo = arquivo.read()\n",
        "print(conteudo)"
      ],
      "metadata": {
        "id": "0WS-PH6P4oK0",
        "colab": {
          "base_uri": "https://localhost:8080/"
        },
        "outputId": "adab1b94-2e6d-4c9a-a86c-e02c0296dc20"
      },
      "execution_count": 41,
      "outputs": [
        {
          "output_type": "stream",
          "name": "stdout",
          "text": [
            "python/ne/incrivel\n"
          ]
        }
      ]
    },
    {
      "cell_type": "markdown",
      "source": [
        "Para você entender mais mais sobre importar com Pandas\n",
        "\n",
        "[Aprofando conhecimento de importação com pandas](https://www.datacamp.com/pt/tutorial/pandas-read-csv)"
      ],
      "metadata": {
        "id": "6AgPjs2YAqf7"
      }
    },
    {
      "cell_type": "code",
      "source": [
        "#Exemplo 8: Arquivo CSV (com Pandas)\n",
        "import pandas as pd\n",
        "# Lendo CSV\n",
        "dados = pd.read_csv(\"dados.csv\")\n",
        "print(dados.head())\n",
        "\n",
        "\n",
        "# Calculando média de uma coluna\n"
      ],
      "metadata": {
        "id": "1zffJcMO4zYA"
      },
      "execution_count": null,
      "outputs": []
    },
    {
      "cell_type": "markdown",
      "source": [
        "**Exercício:**\n",
        "\n",
        "Crie um arquivo notas.csv com colunas aluno e nota, depois calcule a média das notas."
      ],
      "metadata": {
        "id": "O8QeIgMl53VA"
      }
    },
    {
      "cell_type": "markdown",
      "source": [
        "##3. Programação Orientada a Objetos (POO)\n",
        "\n",
        "a) Classes e Objetos\n",
        "Pense em classes como receitas de bolo e objetos como os bolos prontos.\n",
        "<br>\n",
        "\n",
        "\n",
        "Parte 1: A Receita (Classe)\n",
        "\n",
        "Uma classe é como um molde que define:\n",
        "\n",
        "    Atributos: \"Ingredientes\" do objeto (ex: cor, tamanho).\n",
        "\n",
        "    Métodos: \"Ações\" que o objeto pode fazer (ex: assar, decorar)."
      ],
      "metadata": {
        "id": "RLLB8P5d6JAR"
      }
    },
    {
      "cell_type": "code",
      "source": [
        "#Exemplo: Classe Bolo\n"
      ],
      "metadata": {
        "id": "Ykn-8_ma6Hi_"
      },
      "execution_count": null,
      "outputs": []
    },
    {
      "cell_type": "markdown",
      "source": [
        "Explicação:\n",
        "\n",
        "    __init__: Método especial que \"prepara\" o objeto (como misturar os ingredientes).\n",
        "\n",
        "    self.sabor: Cada bolo terá seu próprio sabor (atributo único)."
      ],
      "metadata": {
        "id": "OPHsFI4YR_Ut"
      }
    },
    {
      "cell_type": "markdown",
      "source": [
        "**Parte 2: Os Bolos Prontos (Objetos)**\n",
        "\n",
        "Quando você usa a receita para fazer um bolo, está criando um objeto."
      ],
      "metadata": {
        "id": "3Qr3ifTJSOo9"
      }
    },
    {
      "cell_type": "code",
      "source": [
        "#Exemplo: Criando Objetos\n",
        "\n"
      ],
      "metadata": {
        "id": "BP4qWbcTSHjI"
      },
      "execution_count": null,
      "outputs": []
    },
    {
      "cell_type": "markdown",
      "source": [
        "**Por que Usar Classes?**\n",
        "\n",
        "    Organização: Agrupa dados (atributos) e ações (métodos) em um único lugar.\n",
        "\n",
        "    Reutilização: Crie vários objetos com a mesma estrutura.\n",
        "\n",
        "    Flexibilidade: Cada objeto pode ter valores diferentes."
      ],
      "metadata": {
        "id": "UKpuvuXZS3Ro"
      }
    },
    {
      "cell_type": "markdown",
      "source": [
        "    Classe = Planta de uma casa (define como será).\n",
        "\n",
        "    Objeto = Casa construída (pode ter várias, cada uma com suas cores e donos)."
      ],
      "metadata": {
        "id": "VEr7JIr6S_un"
      }
    },
    {
      "cell_type": "markdown",
      "source": [
        "**Parte 3: Personalizando Objetos**\n",
        "\n",
        "Você pode modificar atributos depois de criar o objeto:\n",
        "bolo1.cobertura = \"castanhas\"  # Troca a cobertura\n",
        "print(bolo1.descrever())  # Agora: \"Bolo de chocolate com castanhas!\""
      ],
      "metadata": {
        "id": "UP1ATZwYSn6X"
      }
    },
    {
      "cell_type": "code",
      "source": [
        "  # Troca a cobertura\n",
        "  # Agora: \"Bolo de chocolate com castanhas!\""
      ],
      "metadata": {
        "id": "bLC8dEHBSnFJ"
      },
      "execution_count": null,
      "outputs": []
    },
    {
      "cell_type": "markdown",
      "source": [
        "## Herança e Polimorfismo: Explicação para Iniciantes\n",
        "\n",
        "Vamos dar exemplo de algo que vocês conhecem que é o zoológico e iremos organizar um de forma digital, já conseguiu visualizar né?\n",
        "\n",
        "1. Herança (Pai e Filho)\n",
        "\n",
        "    O que é?\n",
        "\n",
        "        É como uma herança de família: um filho herda características do pai.\n",
        "\n",
        "        No código: uma classe (filha) pode copiar atributos e métodos de outra classe (pai).\n",
        "\n",
        "    Exemplo Prático:\n",
        "\n",
        "      Todo animal tem um nome e faz um som.\n",
        "\n",
        "      Um cachorro é um animal, então ele herda essas características, mas seu som é diferente (\"Au Au!\")."
      ],
      "metadata": {
        "id": "8w96c14Q78Em"
      }
    },
    {
      "cell_type": "code",
      "source": [
        "#Aqui iremos fazer class com animal\n"
      ],
      "metadata": {
        "id": "927VWJrl6Fze"
      },
      "execution_count": null,
      "outputs": []
    },
    {
      "cell_type": "markdown",
      "source": [
        "Por que usar?\n",
        "\n",
        "    Para não repetir código (ex: todos os animais têm nome, mas cada um faz um som diferente)."
      ],
      "metadata": {
        "id": "86IEyxyf8ztU"
      }
    },
    {
      "cell_type": "markdown",
      "source": [
        "2. Polimorfismo (Múltiplas Formas)\n",
        "\n",
        "\n",
        "```\n",
        "É a capacidade de um mesmo método se comportar de formas diferentes dependendo do objeto.\n",
        "\n",
        "      Igual ao botão \"ligar\" em aparelhos:\n",
        "\n",
        "      Na TV: liga a tela.\n",
        "\n",
        "      No rádio: liga o som.\n",
        "```\n",
        "\n",
        "\n",
        "\n",
        "    Exemplo Prático:\n",
        "\n",
        "    A função fazer_som() funciona para qualquer animal, mas cada um tem sua própria versão do som."
      ],
      "metadata": {
        "id": "cXDfhdMc82r0"
      }
    },
    {
      "cell_type": "code",
      "source": [
        "#Vamos fazer som dos animais?\n"
      ],
      "metadata": {
        "id": "T9EOjVM345ls"
      },
      "execution_count": null,
      "outputs": []
    },
    {
      "cell_type": "markdown",
      "source": [
        "**Por que usar?**\n",
        "\n",
        "  Para escrever código flexível: a mesma função (fazer_som()) funciona com qualquer animal, sem precisar saber se é um cachorro, gato, etc."
      ],
      "metadata": {
        "id": "zgry4hat-DkW"
      }
    },
    {
      "cell_type": "markdown",
      "source": [
        "Comparação com o Mundo Real\n",
        "\n",
        "\n",
        "1.   **Conceito:** Heranças, Polimorfismo\n",
        "2.   **Exemplo do Mundo Real (Heranças):** Filho herda o sobrenome do pai.\n",
        "3.   **Exemplo do Mundo Real (Polimorfismo):** Botão \"ligar\" funciona em vários aparelhos.\n",
        "\n",
        "\n",
        "Exemplo em Python:\n",
        "\n",
        "```\n",
        "Heranças: Cachorro herda nome de Animal.\n",
        "```\n",
        "\n",
        "```\n",
        "Polimorfismo: fazer_som() funciona com Cachorro, Gato, etc.\n",
        "```\n",
        "\n",
        "\n",
        "\n"
      ],
      "metadata": {
        "id": "C6PWv0de-KzC"
      }
    },
    {
      "cell_type": "markdown",
      "source": [
        "**Exercício para Fixar**\n",
        "\n",
        "Crie uma classe Veiculo com método ligar(), e duas subclasses (Carro e Moto) que sobrescrevem esse método:"
      ],
      "metadata": {
        "id": "4NRwIS1K_qM4"
      }
    },
    {
      "cell_type": "markdown",
      "source": [
        "##NumPy: Arrays e Operações Matemáticas\n",
        "\n",
        "Pense no NumPy como uma super calculadora para lidar com listas de números. Ele é ultra-rápido e faz contas complexas em uma única linha!"
      ],
      "metadata": {
        "id": "ZVpFmAvB3D9c"
      }
    },
    {
      "cell_type": "markdown",
      "source": [
        "**Parte 1: Criando Arrays (Listas Turbinadas)**\n",
        "\n",
        "Array = Lista especial do NumPy que permite cálculos rápidos."
      ],
      "metadata": {
        "id": "Gmm90u9e3NdU"
      }
    },
    {
      "cell_type": "code",
      "source": [
        "#Exemplo 1: Array Básico\n"
      ],
      "metadata": {
        "id": "YdgKlRms3Cw3"
      },
      "execution_count": null,
      "outputs": []
    },
    {
      "cell_type": "markdown",
      "source": [
        "**Um array é uma estrutura de dados que armazena vários valores em uma única variável**"
      ],
      "metadata": {
        "id": "qtRH2d1u3NhU"
      }
    },
    {
      "cell_type": "markdown",
      "source": [
        "**Diferença Chave:**\n",
        "\n",
        "    Listas Python: [1, 2, 3]\n",
        "\n",
        "    Arrays NumPy: [1 2 3] (sem vírgulas, e cálculos instantâneos!)"
      ],
      "metadata": {
        "id": "VAYlKkKO3Zcn"
      }
    },
    {
      "cell_type": "markdown",
      "source": [
        "**Parte 2: Operações Vetorizadas (Sem Loops!)**\n",
        "\n",
        "\"Vetorizado\" = Fazer contas em todos os itens de uma vez (sem for)."
      ],
      "metadata": {
        "id": "_AmE90gb3egt"
      }
    },
    {
      "cell_type": "code",
      "source": [
        "#Exemplo 2: Soma Relâmpago\n"
      ],
      "metadata": {
        "id": "w6fGiprC3bpp"
      },
      "execution_count": null,
      "outputs": []
    },
    {
      "cell_type": "code",
      "source": [
        "#Exemplo 3: Matemática em Massa\n"
      ],
      "metadata": {
        "id": "Gy5AAjHL3xVS"
      },
      "execution_count": null,
      "outputs": []
    },
    {
      "cell_type": "markdown",
      "source": [
        "## Parte 3: Indexação Avançada\n"
      ],
      "metadata": {
        "id": "2cj-F6as3-AD"
      }
    },
    {
      "cell_type": "code",
      "source": [
        "#Exemplo 4: Slicing (Fatiamento)\n"
      ],
      "metadata": {
        "id": "Md_nySv735VB"
      },
      "execution_count": null,
      "outputs": []
    },
    {
      "cell_type": "code",
      "source": [
        "#Exemplo 5: Boolean Masking (Filtro Mágico)\n"
      ],
      "metadata": {
        "id": "NE9DGz0g4MzM"
      },
      "execution_count": null,
      "outputs": []
    },
    {
      "cell_type": "markdown",
      "source": [
        "Exercício Prático\n",
        "\n",
        "Problema: Dado o array [5, 10, 15, 20]:\n",
        "\n",
        "    Calcule a média. (Só usar o mean para calcular a média)\n",
        "\n",
        "    Filtre valores maiores que 10."
      ],
      "metadata": {
        "id": "3b3l1zwv4c4W"
      }
    },
    {
      "cell_type": "markdown",
      "source": [
        "#Exercício Geral :\n",
        "\n",
        "O exercício que combina todos os conceitos que vimos (variáveis, listas, loops, funções, NumPy, POO e operadores)"
      ],
      "metadata": {
        "id": "EICVOCiTF-4k"
      }
    },
    {
      "cell_type": "markdown",
      "source": [
        "**1. Criar uma Classe Livro**\n",
        "\n",
        "    Atributos: titulo (string), autor (string), disponivel (boolean - inicie como True).\n",
        "\n",
        "    Método: emprestar() que muda disponivel para False."
      ],
      "metadata": {
        "id": "bTSuYRAxGLUh"
      }
    },
    {
      "cell_type": "code",
      "source": [
        "class Livro:\n",
        "    def __init__(self, titulo: str, autor: str):\n",
        "        self.titulo = titulo\n",
        "        self.autor = autor\n",
        "        self.disponivel = True\n",
        "    def emprestar(self):\n",
        "        self.disponivel = False"
      ],
      "metadata": {
        "id": "gMlhy7C7G8TA"
      },
      "execution_count": 42,
      "outputs": []
    },
    {
      "cell_type": "markdown",
      "source": [
        "**2. Lista de Livros e Operações**\n",
        "\n",
        "    Crie uma lista biblioteca com 3 livros (ex: \"Dom Casmurro\", \"1984\", \"O Pequeno Príncipe\").\n",
        "\n",
        "    Use um loop para emprestar um livro e imprimir seu status."
      ],
      "metadata": {
        "id": "CTHBZWneGRFu"
      }
    },
    {
      "cell_type": "code",
      "source": [
        "biblioteca = [\n",
        "    Livro(\"Dom Casmurro\", \"Machado de Assis\"),\n",
        "    Livro(\"1984\", \"George Orwell\"),\n",
        "    Livro(\"O Pequeno Príncipe\", \"Antoine de Saint-Exupéry\")\n",
        "]\n",
        "\n",
        "for livro in biblioteca:\n",
        "    print(f\"Livro: {livro.titulo}, Disponível: {livro.disponivel}\")  # Antes de emprestar\n",
        "    livro.emprestar()\n",
        "    print(f\"Livro: {livro.titulo}, Disponível: {livro.disponivel}\")  # Dps de emprestar\n",
        "    print(\"---\")\n"
      ],
      "metadata": {
        "id": "k228LPYqG3h2",
        "colab": {
          "base_uri": "https://localhost:8080/"
        },
        "outputId": "e297db81-e415-4821-9abf-2c0fb57afa1c"
      },
      "execution_count": 43,
      "outputs": [
        {
          "output_type": "stream",
          "name": "stdout",
          "text": [
            "Livro: Dom Casmurro, Disponível: True\n",
            "Livro: Dom Casmurro, Disponível: False\n",
            "---\n",
            "Livro: 1984, Disponível: True\n",
            "Livro: 1984, Disponível: False\n",
            "---\n",
            "Livro: O Pequeno Príncipe, Disponível: True\n",
            "Livro: O Pequeno Príncipe, Disponível: False\n",
            "---\n"
          ]
        }
      ]
    },
    {
      "cell_type": "markdown",
      "source": [
        "**3. Filtro com Boolean Masking**\n",
        "\n",
        "    Crie um array com páginas fictícias (ex: [200, 328, 96]).\n",
        "\n",
        "    Filtre livros com mais de 100 páginas."
      ],
      "metadata": {
        "id": "2lT4UGlcGWTa"
      }
    },
    {
      "cell_type": "code",
      "source": [
        "import numpy as np\n",
        "\n",
        "# Array com páginas fictícias\n",
        "paginas = np.array([200, 328, 96])\n",
        "\n",
        "# Filtrando livros com mais de 100 páginas\n",
        "filtro = paginas > 100\n",
        "livros_filtrados = paginas[filtro]\n",
        "\n",
        "print(\"Livros com mais de 100 páginas:\", livros_filtrados)\n"
      ],
      "metadata": {
        "id": "7cgAepvqG2ja",
        "colab": {
          "base_uri": "https://localhost:8080/"
        },
        "outputId": "ff0d0181-3139-467b-af3c-de3c6cda0407"
      },
      "execution_count": 44,
      "outputs": [
        {
          "output_type": "stream",
          "name": "stdout",
          "text": [
            "Livros com mais de 100 páginas: [200 328]\n"
          ]
        }
      ]
    },
    {
      "cell_type": "markdown",
      "source": [
        "**4. Função com NumPy**\n",
        "\n",
        "    Crie um array NumPy com os anos de publicação fictícios (ex: [1899, 1949, 1943]).\n",
        "\n",
        "    Calcule a média dos anos."
      ],
      "metadata": {
        "id": "F24A_oOIGgbS"
      }
    },
    {
      "cell_type": "code",
      "source": [
        "anos_publicacao = np.array([1899, 1949, 1943])\n",
        "\n",
        "media_anos = np.mean(anos_publicacao)\n",
        "\n",
        "print(\"Média dos anos de publicação:\", media_anos)\n"
      ],
      "metadata": {
        "id": "TcBwd2FWG278",
        "colab": {
          "base_uri": "https://localhost:8080/"
        },
        "outputId": "249f988f-eb56-4465-9b84-10961a8cb07c"
      },
      "execution_count": 45,
      "outputs": [
        {
          "output_type": "stream",
          "name": "stdout",
          "text": [
            "Média dos anos de publicação: 1930.3333333333333\n"
          ]
        }
      ]
    }
  ]
}